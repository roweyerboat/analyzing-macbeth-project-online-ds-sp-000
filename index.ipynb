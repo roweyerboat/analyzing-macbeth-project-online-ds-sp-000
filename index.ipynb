{
 "cells": [
  {
   "cell_type": "markdown",
   "metadata": {},
   "source": [
    "# Project: Analyzing Macbeth\n",
    "\n",
    "## Introduction\n",
    "For our first day and first data science project, we're going to do some rudimentry analysis of Shakespeare's classic play: Macbeth! You will get practice working with lists, condtionals and dictionaries, visualizing data, and thinking analytically about data.\n",
    "\n",
    "## Objectives\n",
    "You will be able to:\n",
    "* Show mastery of the content covered in this section\n",
    "\n",
    "## Getting the Data\n",
    "Here we start by importing a python package and using it to pull the transcript of Macbeth from the project Gutenberg website. We also preview a few details about what is now stored in the variable macbeth; it's a string with 119,846 characters, the first 500 of which are printed below. "
   ]
  },
  {
   "cell_type": "code",
   "execution_count": 2,
   "metadata": {},
   "outputs": [
    {
     "name": "stdout",
     "output_type": "stream",
     "text": [
      "<class 'str'>\n",
      "120253\n",
      "﻿\r\n",
      "\r\n",
      "***The Project Gutenberg's Etext of Shakespeare's First Folio***\r\n",
      "********************The Tragedie of Macbeth*********************\r\n",
      "\r\n",
      "\r\n",
      "\r\n",
      "*******************************************************************\r\n",
      "THIS EBOOK WAS ONE OF PROJECT GUTENBERG'S EARLY FILES PRODUCED AT A\r\n",
      "TIME WHEN PROOFING METHODS AND TOOLS WERE NOT WELL DEVELOPED. THERE\r\n",
      "IS AN IMPROVED EDITION OF THIS TITLE WHICH MAY BE VIEWED AS EBOOK\r\n",
      "(#1533) at https://www.gutenberg.org/ebooks/1533\r\n",
      "*********************************\n"
     ]
    }
   ],
   "source": [
    "import requests\n",
    "macbeth = requests.get('http://www.gutenberg.org/cache/epub/2264/pg2264.txt').text\n",
    "import matplotlib.pyplot as plt\n",
    "%matplotlib inline\n",
    "print(type(macbeth))\n",
    "print(len(macbeth))\n",
    "print(macbeth[:500])"
   ]
  },
  {
   "cell_type": "markdown",
   "metadata": {},
   "source": [
    "## Your Task\n",
    "\n",
    "Your task is to create a bar graph of the 25 most common words in Shakespeare's Macbeth.  \n",
    "\n",
    "\n",
    "A common python programming pattern to counting objects, produce histograms, or update statistics is to make calls to a dictionary as you iterate through a list. For example, given a list of words, you can create a dictionary to store counts and then iterate through the list of words, checking how many times each word has appeared using your dictionary, and updating the dictionary count now that you've seen that word again. The `dictionary.get()` method is very useful in doing this. Read the docstring for the dictionary.get() method and use it along with the pseudocode above to create a bar graph of the 25 most common words from the transcript of Macbeth which has been loaded into a variable 'Macbeth'. Be sure to include a title and appropriate labels for your graph."
   ]
  },
  {
   "cell_type": "code",
   "execution_count": 10,
   "metadata": {},
   "outputs": [
    {
     "name": "stdout",
     "output_type": "stream",
     "text": [
      "{'the': 760, 'of': 428, 'this': 150, 'a': 285, 'and': 603, 'not': 165, 'is': 208, 'be': 149, 'as': 107, 'our': 136, 'to': 458, 'for': 135, 'your': 138, 'in': 221, 'you': 239, 'with': 162, 'it': 163, 'that': 238, 'but': 126, 'i': 329, 'my': 207, 'he': 109, 'his': 145, 'haue': 119, 'macb': 137}\n"
     ]
    },
    {
     "data": {
      "image/png": "[encoded data removed]",
      "text/plain": [
       "<Figure size 1080x432 with 1 Axes>"
      ]
     },
     "metadata": {
      "needs_background": "light"
     },
     "output_type": "display_data"
    }
   ],
   "source": [
    "# Your code here\n",
    "\n",
    "# Pseudo-code Outline\n",
    "# Split the transcript into words\n",
    "macbeth_words = str.split(macbeth)\n",
    "\n",
    "# Create a dictionary\n",
    "macbeth_dict = dict()\n",
    "# Iterate through the text of Macbeth\n",
    "for line in macbeth_words:\n",
    "    #Remove the leading spaces and newline character\n",
    "    line = line.strip()\n",
    "    #Removing extra characters\n",
    "    line = line.strip('/')\n",
    "    line = line.strip('*')\n",
    "    line = line.strip('(')\n",
    "    line = line.strip(')')\n",
    "    line = line.strip('@')\n",
    "    line = line.strip('-')\n",
    "    line = line.strip('[]')\n",
    "    line = line.strip('.')\n",
    "    #Convert the characters in line to lowercase to avoid case mismatch\n",
    "    line = line.lower()\n",
    "    #Split the line into words\n",
    "    words = line.split(\" \")\n",
    "    \n",
    "    #Iterate over each word in line\n",
    "    for word in words:\n",
    "        #Check if the word is already in dictionary\n",
    "        if word in macbeth_dict:\n",
    "            #Increment count of word by 1\n",
    "            macbeth_dict[word] = macbeth_dict[word] + 1\n",
    "        else:\n",
    "            #Add the word to dictionary with count 1\n",
    "            macbeth_dict[word] = 1\n",
    "#for key in list(macbeth_dict.keys()):\n",
    "    #print(key, \":\", macbeth_dict[key])\n",
    "#creating a dictionary of the top 20 words\n",
    "top_words = dict()\n",
    "for key, value in macbeth_dict.items():\n",
    "    if value > 105:\n",
    "        top_words[key] = value\n",
    "print(top_words)\n",
    "len(top_words)\n",
    "#create a figure of a larger size to be able to see the labels\n",
    "plt.figure(figsize=(15,6))\n",
    "# Create Bar Graph\n",
    "plt.bar(top_words.keys(), top_words.values())\n",
    "plt.xlabel('Words in Macbeth')\n",
    "plt.ylabel('Occurences of the Words')\n",
    "plt.title('Top 25 Words Used in Macbeth')\n",
    "plt.show()\n",
    "# Include descriptive titles and labels"
   ]
  },
  {
   "cell_type": "markdown",
   "metadata": {},
   "source": [
    "## Level Up (Optional)\n",
    "This project should take you about an hour and a half to complete. If you're done much more quickly than that and are not behind in the course, feel free to deepen your knowledge by completing any or all of the following tasks until you run out of time:\n",
    "* Create a list of top characters by mentions of their names \n",
    "* Split the text by which character is talking\n",
    "* Create subgraphs of the most common words by character\n",
    "* Reduce the string to the text of the play itself. (Remove any initial notes, forward, introduction, appendix, etc.)\n",
    "* Come up with some other fun analyses of the text!\n",
    "\n",
    "## Summary\n",
    "Congratulations! You've got some extra practice combining various data types into useful programming patterns and done an initial analysis of a classic text!"
   ]
  }
 ],
 "metadata": {
  "kernelspec": {
   "display_name": "Python 3",
   "language": "python",
   "name": "python3"
  },
  "language_info": {
   "codemirror_mode": {
    "name": "ipython",
    "version": 3
   },
   "file_extension": ".py",
   "mimetype": "text/x-python",
   "name": "python",
   "nbconvert_exporter": "python",
   "pygments_lexer": "ipython3",
   "version": "3.6.9"
  }
 },
 "nbformat": 4,
 "nbformat_minor": 2
}
